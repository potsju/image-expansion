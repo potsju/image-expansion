{
 "cells": [
  {
   "cell_type": "code",
   "execution_count": 1,
   "id": "4674d1a6-f6df-40cf-a602-5a6748257405",
   "metadata": {},
   "outputs": [],
   "source": [
    "from torch.utils.data import Dataset, DataLoader\n",
    "from torchvision import transforms\n",
    "from PIL import Image\n",
    "import os\n",
    "\n",
    "class ImageDataset(Dataset):\n",
    "    def __init__(self, image_dir, transform = None):\n",
    "        self.image_dir = image_dir\n",
    "        self.image_files = [f for f in os.listdir(image_dir) if f.endswith(('.png', '.jpg', '.jpeg'))]\n",
    "        self.transform = transform\n",
    "    def __len__(self):\n",
    "        return len(self.image_files)\n",
    "    def __getitem__(self, idx):\n",
    "        img_path = os.path.join(self.image_dir, self.image_files[idx])\n",
    "        image = Image.open(img_path).convert(\"RGB\")\n",
    "        if self.transform:\n",
    "            image = self.transform(image)\n",
    "        return image\n",
    "\n",
    "transform = transforms.Compose([\n",
    "    transforms.Resize((128, 128)),\n",
    "    transforms.ToTensor(),\n",
    "    transforms.Normalize(mean=[0.5, 0.5, 0.5], std=[0.5, 0.5, 0.5])\n",
    "])\n",
    "image_folder_path = \"./images\"\n",
    "dataset = ImageDataset(image_folder_path, transform = transform)\n",
    "dataloader = DataLoader(dataset, batch_size =16, shuffle = True)\n",
    "\n",
    "\n",
    "        "
   ]
  },
  {
   "cell_type": "code",
   "execution_count": 2,
   "id": "dde9b8c3-994c-463c-9fff-4981b30e0174",
   "metadata": {},
   "outputs": [],
   "source": [
    "import torch\n",
    "import torch.nn as nn\n",
    "import torch.optim as optim\n",
    "\n",
    "class SuperResolutionModel(nn.Module):\n",
    "    def __init__(self):\n",
    "        super().__init__()\n",
    "        # Define your layers here\n",
    "        self.conv1 = nn.Conv2d(3, 64, kernel_size=3, padding=1)\n",
    "        self.relu = nn.ReLU()\n",
    "        self.conv2 = nn.Conv2d(64, 3, kernel_size=3, padding=1)\n",
    "    \n",
    "    def forward(self, x):\n",
    "        x = self.relu(self.conv1(x))\n",
    "        x = self.conv2(x)\n",
    "        return x\n",
    "\n",
    "model = SuperResolutionModel()\n",
    "criterion = torch.nn.MSELoss()\n",
    "optimizer = optim.Adam(model.parameters(), lr = 0.001)"
   ]
  },
  {
   "cell_type": "code",
   "execution_count": 3,
   "id": "2cefa6b9-e68a-4533-bfaf-65604f4ba31a",
   "metadata": {},
   "outputs": [
    {
     "ename": "ModuleNotFoundError",
     "evalue": "No module named 'diffusers'",
     "output_type": "error",
     "traceback": [
      "\u001b[0;31m---------------------------------------------------------------------------\u001b[0m",
      "\u001b[0;31mModuleNotFoundError\u001b[0m                       Traceback (most recent call last)",
      "Cell \u001b[0;32mIn[3], line 3\u001b[0m\n\u001b[1;32m      1\u001b[0m \u001b[38;5;28;01mfrom\u001b[39;00m \u001b[38;5;21;01mPIL\u001b[39;00m \u001b[38;5;28;01mimport\u001b[39;00m Image\n\u001b[1;32m      2\u001b[0m \u001b[38;5;28;01mimport\u001b[39;00m \u001b[38;5;21;01mtorch\u001b[39;00m\n\u001b[0;32m----> 3\u001b[0m \u001b[38;5;28;01mfrom\u001b[39;00m \u001b[38;5;21;01mdiffusers\u001b[39;00m \u001b[38;5;28;01mimport\u001b[39;00m StableDiffusionInpaintPipeline\n\u001b[1;32m      4\u001b[0m \u001b[38;5;28;01mimport\u001b[39;00m \u001b[38;5;21;01mos\u001b[39;00m\n\u001b[1;32m      6\u001b[0m \u001b[38;5;66;03m# Load Stable Diffusion Inpainting Pipeline\u001b[39;00m\n",
      "\u001b[0;31mModuleNotFoundError\u001b[0m: No module named 'diffusers'"
     ]
    }
   ],
   "source": [
    "from PIL import Image\n",
    "import torch\n",
    "from diffusers import StableDiffusionInpaintPipeline\n",
    "import os\n",
    "\n",
    "# Load Stable Diffusion Inpainting Pipeline\n",
    "device = \"cuda\" if torch.cuda.is_available() else \"cpu\"\n",
    "pipe = StableDiffusionInpaintPipeline.from_pretrained(\n",
    "    \"runwayml/stable-diffusion-inpainting\", torch_dtype=torch.float16\n",
    ").to(device)\n",
    "\n",
    "# Function to generate mask for zoom-out gaps\n",
    "def create_mask(image, scale=0.5):\n",
    "    original_width, original_height = image.size\n",
    "    new_width = int(original_width * scale)\n",
    "    new_height = int(original_height * scale)\n",
    "\n",
    "    # Create blank mask (black background)\n",
    "    mask = Image.new(\"L\", (original_width, original_height), 0)\n",
    "\n",
    "    # Define white region for inpainting (zoomed-out area)\n",
    "    paste_x = (original_width - new_width) // 2\n",
    "    paste_y = (original_height - new_height) // 2\n",
    "    white_box = (paste_x, paste_y, paste_x + new_width, paste_y + new_height)\n",
    "    mask.paste(255, white_box)\n",
    "\n",
    "    return mask\n",
    "\n",
    "# Function to perform inpainting\n",
    "def inpaint_image(image_path, output_path, prompt=\"Fill missing areas\"):\n",
    "    # Load image\n",
    "    image = Image.open(image_path).convert(\"RGB\")\n",
    "\n",
    "    # Generate mask for zoom-out gaps\n",
    "    mask = create_mask(image)\n",
    "\n",
    "    # Perform inpainting using Stable Diffusion\n",
    "    result = pipe(prompt=prompt, image=image, mask_image=mask).images[0]\n",
    "\n",
    "    # Save output image\n",
    "    result.save(output_path)\n",
    "\n",
    "# Directory paths\n",
    "image_folder_path = \"./images\"\n",
    "output_folder_path = \"./output_images\"\n",
    "os.makedirs(output_folder_path, exist_ok=True)\n",
    "\n",
    "# Process each image in the folder\n",
    "for filename in os.listdir(image_folder_path):\n",
    "    if filename.endswith(('.png', '.jpg', '.jpeg')):\n",
    "        img_path = os.path.join(image_folder_path, filename)\n",
    "        output_path = os.path.join(output_folder_path, filename)\n",
    "        inpaint_image(img_path, output_path)\n",
    "\n",
    "print(f\"Processed images saved to {output_folder_path}\")\n"
   ]
  },
  {
   "cell_type": "code",
   "execution_count": null,
   "id": "418fe6e6-fc6f-4319-8952-fe69de2740b6",
   "metadata": {},
   "outputs": [],
   "source": [
    "import pkg_resources\n",
    "pkg_resources.require('diffusers')\n"
   ]
  },
  {
   "cell_type": "code",
   "execution_count": null,
   "id": "aadcceb6-1c0f-4630-bc71-756dcee8b0bf",
   "metadata": {},
   "outputs": [],
   "source": []
  },
  {
   "cell_type": "code",
   "execution_count": null,
   "id": "7a6fc684-bc25-4ff0-90d6-f21ddab7c34c",
   "metadata": {},
   "outputs": [],
   "source": []
  },
  {
   "cell_type": "code",
   "execution_count": null,
   "id": "d0dde04d-f831-4527-b58c-1dae610ad62f",
   "metadata": {},
   "outputs": [],
   "source": []
  },
  {
   "cell_type": "code",
   "execution_count": null,
   "id": "5e1e3d79-298b-49d2-b603-0341a6699071",
   "metadata": {},
   "outputs": [],
   "source": []
  },
  {
   "cell_type": "code",
   "execution_count": null,
   "id": "cee13e2f-bb41-4c4b-a465-c43456e1e25f",
   "metadata": {},
   "outputs": [],
   "source": []
  },
  {
   "cell_type": "code",
   "execution_count": null,
   "id": "24416192-0a30-4a72-b381-95a79c702f5b",
   "metadata": {},
   "outputs": [],
   "source": []
  },
  {
   "cell_type": "code",
   "execution_count": null,
   "id": "840a6dd5-7575-49fc-bf3d-4e61b55cf206",
   "metadata": {},
   "outputs": [],
   "source": []
  },
  {
   "cell_type": "code",
   "execution_count": null,
   "id": "53db57f0-8e0f-4ea6-9e7b-85007b51b657",
   "metadata": {},
   "outputs": [],
   "source": []
  },
  {
   "cell_type": "code",
   "execution_count": null,
   "id": "cd890f2d-9b5b-47f9-962d-a8fa43ea5ad9",
   "metadata": {},
   "outputs": [],
   "source": []
  },
  {
   "cell_type": "code",
   "execution_count": null,
   "id": "00cfba0d-de3d-4e77-87af-0c6cbc425d5b",
   "metadata": {},
   "outputs": [],
   "source": []
  },
  {
   "cell_type": "code",
   "execution_count": null,
   "id": "6fdff450-0802-49cd-b177-b70a6c9bd542",
   "metadata": {},
   "outputs": [],
   "source": []
  },
  {
   "cell_type": "code",
   "execution_count": null,
   "id": "8fbcac68-e72a-4a4d-8480-7f1d8953cab0",
   "metadata": {},
   "outputs": [],
   "source": []
  }
 ],
 "metadata": {
  "kernelspec": {
   "display_name": "Python 3",
   "language": "python",
   "name": "python3"
  },
  "language_info": {
   "codemirror_mode": {
    "name": "ipython",
    "version": 3
   },
   "file_extension": ".py",
   "mimetype": "text/x-python",
   "name": "python",
   "nbconvert_exporter": "python",
   "pygments_lexer": "ipython3",
   "version": "3.10.5"
  }
 },
 "nbformat": 4,
 "nbformat_minor": 5
}
